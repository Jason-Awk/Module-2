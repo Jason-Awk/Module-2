{
 "cells": [
  {
   "cell_type": "code",
   "execution_count": null,
   "id": "d2ae8596-f8ae-413a-afdd-42771aa5c7d1",
   "metadata": {},
   "outputs": [
    {
     "name": "stdin",
     "output_type": "stream",
     "text": [
      "What is the student's last name? WilliamZZZ\n"
     ]
    }
   ],
   "source": [
    "#Jason Bachmann\n",
    "#Module 2 Lab\n",
    "#This application will ask for a student's last and first name, and their GPA.\n",
    "#Depending on how high the GPA is, the user will be told if their on the Dean's list or the Honer Roll\n",
    "\n",
    "#Ask for the student's last name\n",
    "last_name = input(\"What is the student's last name?\")\n",
    "\n",
    "#If the last name has three Zs at the end, the program will end.\n",
    "if last_name.endswith(\"ZZZ\"):\n",
    "    quit()\n",
    "\n",
    "#Ask for student's first name\n",
    "first_name = input(\"What is the student's first name?\")\n",
    "\n",
    "#Ask for student's GPA\n",
    "student_GPA_text = input(\"What is the student's GPA?\")\n",
    "\n",
    "#Converts the GPA text string to a float number\n",
    "stu_GPA_num = float(student_GPA_text)\n",
    "\n",
    "#checks what the GPA score is\n",
    "if stu_GPA_num >= 3.5:\n",
    "    print (\"The student has made the Dean's list!\")\n",
    "#second check on what the GPA score is for a smaller score.\n",
    "elif stu_GPA_num >= 3.25:\n",
    "    print (\"The student has made the Honer Roll!\")\n",
    "#quits program is GPA is lower than 3.25\n",
    "else:\n",
    "    quit()"
   ]
  },
  {
   "cell_type": "code",
   "execution_count": null,
   "id": "093ddd62-47eb-411d-86d0-d8931909887c",
   "metadata": {},
   "outputs": [],
   "source": []
  }
 ],
 "metadata": {
  "kernelspec": {
   "display_name": "Python [conda env:base] *",
   "language": "python",
   "name": "conda-base-py"
  },
  "language_info": {
   "codemirror_mode": {
    "name": "ipython",
    "version": 3
   },
   "file_extension": ".py",
   "mimetype": "text/x-python",
   "name": "python",
   "nbconvert_exporter": "python",
   "pygments_lexer": "ipython3",
   "version": "3.12.7"
  }
 },
 "nbformat": 4,
 "nbformat_minor": 5
}
