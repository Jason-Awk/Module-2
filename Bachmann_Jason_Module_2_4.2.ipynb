{
 "cells": [
  {
   "cell_type": "code",
   "execution_count": 29,
   "id": "145ed885-a88f-4a4b-a3a1-7fedfc3c22c0",
   "metadata": {},
   "outputs": [
    {
     "name": "stdout",
     "output_type": "stream",
     "text": [
      "This is a watermelon.\n"
     ]
    }
   ],
   "source": [
    "small = False\n",
    "green = True\n",
    "\n",
    "if small == True and green == True:\n",
    "        print(\"This is a pea.\")\n",
    "elif small == True and green == False:\n",
    "        print(\"This is a cherry.\")\n",
    "elif small == False and green == True:\n",
    "        print(\"This is a watermelon.\")\n",
    "else:\n",
    "        print(\"This is a pumpkin.\")"
   ]
  },
  {
   "cell_type": "code",
   "execution_count": null,
   "id": "647db04b-bc68-42ac-a88e-bb483e8ff357",
   "metadata": {},
   "outputs": [],
   "source": []
  }
 ],
 "metadata": {
  "kernelspec": {
   "display_name": "Python [conda env:base] *",
   "language": "python",
   "name": "conda-base-py"
  },
  "language_info": {
   "codemirror_mode": {
    "name": "ipython",
    "version": 3
   },
   "file_extension": ".py",
   "mimetype": "text/x-python",
   "name": "python",
   "nbconvert_exporter": "python",
   "pygments_lexer": "ipython3",
   "version": "3.12.7"
  }
 },
 "nbformat": 4,
 "nbformat_minor": 5
}
