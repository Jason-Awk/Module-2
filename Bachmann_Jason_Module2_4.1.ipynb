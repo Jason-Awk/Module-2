{
 "cells": [
  {
   "cell_type": "code",
   "execution_count": 18,
   "id": "9dada30d-4aa3-4ef5-936b-bd6d018de560",
   "metadata": {},
   "outputs": [
    {
     "name": "stdin",
     "output_type": "stream",
     "text": [
      "Can you guess my number? Input a number between 1 and 10:  4\n"
     ]
    },
    {
     "name": "stdout",
     "output_type": "stream",
     "text": [
      "You guessed correctly!\n"
     ]
    }
   ],
   "source": [
    "secret = float(4)\n",
    "\n",
    "guess = float(input(\"Can you guess my number? Input a number between 1 and 10: \"))\n",
    "\n",
    "while guess > 10 or guess < 1:\n",
    "    guess = input(print(\"Your guess is higher than 10 or lower than 1, my number between 1 and 10: \"))\n",
    "\n",
    "if secret > guess:\n",
    "    print(\"Your guess is too low.\")\n",
    "elif secret < guess:\n",
    "    print(\"Your guess is too high.\")\n",
    "else:\n",
    "    print(\"You guessed correctly!\")\n",
    "                  "
   ]
  },
  {
   "cell_type": "code",
   "execution_count": null,
   "id": "7783943b-865a-4473-b7fb-36239ca09784",
   "metadata": {},
   "outputs": [],
   "source": []
  }
 ],
 "metadata": {
  "kernelspec": {
   "display_name": "Python [conda env:base] *",
   "language": "python",
   "name": "conda-base-py"
  },
  "language_info": {
   "codemirror_mode": {
    "name": "ipython",
    "version": 3
   },
   "file_extension": ".py",
   "mimetype": "text/x-python",
   "name": "python",
   "nbconvert_exporter": "python",
   "pygments_lexer": "ipython3",
   "version": "3.12.7"
  }
 },
 "nbformat": 4,
 "nbformat_minor": 5
}
